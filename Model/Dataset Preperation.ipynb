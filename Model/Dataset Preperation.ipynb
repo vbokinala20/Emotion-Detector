{
 "cells": [
  {
   "cell_type": "code",
   "execution_count": 1,
   "metadata": {},
   "outputs": [],
   "source": [
    "# !pip install pandas"
   ]
  },
  {
   "cell_type": "code",
   "execution_count": 2,
   "metadata": {},
   "outputs": [],
   "source": [
    "import pandas as pd\n",
    "import os \n",
    "from glob import glob\n",
    "import numpy as np\n",
    "from pathlib import Path\n",
    "\n",
    "#this function plots the numbers as a graph\n",
    "import matplotlib.pyplot as plt\n",
    "# Use the line below to show inline in a notebook\n",
    "%matplotlib inline"
   ]
  },
  {
   "cell_type": "code",
   "execution_count": 3,
   "metadata": {},
   "outputs": [],
   "source": [
    "current_path = os.getcwd()+'/'\n",
    "dataset_path =  current_path+'Collected Datasets/'"
   ]
  },
  {
   "cell_type": "code",
   "execution_count": 4,
   "metadata": {},
   "outputs": [],
   "source": [
    "#this function enable to provide the sets in a list based format\n",
    "training_sets =[]\n",
    "development_sets =[]\n",
    "test_sets =[]\n",
    "for path in Path(dataset_path).rglob('*.txt'):\n",
    "    my_paths = str(path.absolute())\n",
    "    if '.train.' in my_paths:\n",
    "        training_sets.append(my_paths)\n",
    "    elif '.dev.' in my_paths:\n",
    "        development_sets.append(my_paths)\n",
    "    elif '.test.' in my_paths:\n",
    "        test_sets.append(my_paths)"
   ]
  },
  {
   "cell_type": "code",
   "execution_count": 5,
   "metadata": {},
   "outputs": [
    {
     "data": {
      "text/plain": [
       "['/Users/vineeth/Dropbox/Code Base/Working_code/Collected Datasets/WASSA 2017/TRAINING/sadness-ratings-0to1.train.txt',\n",
       " '/Users/vineeth/Dropbox/Code Base/Working_code/Collected Datasets/WASSA 2017/TRAINING/joy-ratings-0to1.train.txt',\n",
       " '/Users/vineeth/Dropbox/Code Base/Working_code/Collected Datasets/WASSA 2017/TRAINING/anger-ratings-0to1.train.txt',\n",
       " '/Users/vineeth/Dropbox/Code Base/Working_code/Collected Datasets/WASSA 2017/TRAINING/fear-ratings-0to1.train.txt']"
      ]
     },
     "execution_count": 5,
     "metadata": {},
     "output_type": "execute_result"
    }
   ],
   "source": [
    "training_sets"
   ]
  },
  {
   "cell_type": "code",
   "execution_count": 6,
   "metadata": {},
   "outputs": [],
   "source": [
    "#this displays the interested colnms\n",
    "col_names = ['id', 'message','emotion','intensity']"
   ]
  },
  {
   "cell_type": "code",
   "execution_count": 7,
   "metadata": {},
   "outputs": [],
   "source": [
    "#this function reads the 3 datasets\n",
    "train_1_df = pd.read_csv(training_sets[2],sep='\\t', engine='python', names = col_names)\n",
    "train_2_df = pd.read_csv(training_sets[3],sep='\\t', engine='python', names = col_names)\n",
    "train_3_df = pd.read_csv(training_sets[0],sep='\\t', engine='python', names = col_names)\n",
    "train_4_df = pd.read_csv(training_sets[1],sep='\\t', engine='python', names = col_names)\n",
    "\n",
    "dev_1_df = pd.read_csv(development_sets[2],sep='\\t', engine='python', names = col_names)\n",
    "dev_2_df = pd.read_csv(development_sets[3],sep='\\t', engine='python', names = col_names)\n",
    "dev_3_df = pd.read_csv(development_sets[0],sep='\\t', engine='python', names = col_names)\n",
    "dev_4_df = pd.read_csv(development_sets[1],sep='\\t', engine='python', names = col_names)\n",
    "\n",
    "test_1_df = pd.read_csv(test_sets[2],sep='\\t', engine='python', names = col_names)\n",
    "test_2_df = pd.read_csv(test_sets[3],sep='\\t', engine='python', names = col_names)\n",
    "test_3_df = pd.read_csv(test_sets[0],sep='\\t', engine='python', names = col_names)\n",
    "test_4_df = pd.read_csv(test_sets[1],sep='\\t', engine='python', names = col_names)"
   ]
  },
  {
   "cell_type": "code",
   "execution_count": 8,
   "metadata": {},
   "outputs": [],
   "source": [
    "#this sets the threshold to 0.2 so that the intesity of the text is identified\n",
    "threshold = 0.2"
   ]
  },
  {
   "cell_type": "code",
   "execution_count": 9,
   "metadata": {},
   "outputs": [],
   "source": [
    "#this function aappends the 3 datasets\n",
    "train_df = train_1_df.append(train_2_df.append(train_3_df.append(train_4_df)))\n",
    "dev_df = dev_1_df.append(dev_2_df.append(dev_3_df.append(dev_4_df)))\n",
    "test_df = test_1_df.append(test_2_df.append(test_3_df.append(test_4_df)))"
   ]
  },
  {
   "cell_type": "code",
   "execution_count": 10,
   "metadata": {},
   "outputs": [],
   "source": [
    "# count of each emotion class contributing to the normal class\n",
    "def get_counts_each_emotion_2_normal_class(data_df):\n",
    "    \n",
    "    fear_count_normal = len(data_df[(data_df.emotion == 'fear') & (data_df.intensity<threshold)])\n",
    "    sadness_count_normal = len(data_df[(data_df.emotion == 'sadness') & (data_df.intensity<threshold)])\n",
    "    anger_count_normal = len(data_df[(data_df.emotion == 'anger') & (data_df.intensity<threshold)])\n",
    "    joy_count_normal = len(data_df[(data_df.emotion == 'joy') & (data_df.intensity<threshold)])\n",
    "\n",
    "    dict_count = {\n",
    "    'fear':fear_count_normal,\n",
    "    'sadness':sadness_count_normal,\n",
    "    'anger':anger_count_normal,\n",
    "    'joy':joy_count_normal,\n",
    "    'count':fear_count_normal+sadness_count_normal+anger_count_normal+joy_count_normal\n",
    "     }\n",
    "\n",
    "    return dict_count"
   ]
  },
  {
   "cell_type": "code",
   "execution_count": 11,
   "metadata": {},
   "outputs": [
    {
     "data": {
      "text/plain": [
       "{'fear': 67, 'sadness': 35, 'anger': 37, 'joy': 61, 'count': 200}"
      ]
     },
     "execution_count": 11,
     "metadata": {},
     "output_type": "execute_result"
    }
   ],
   "source": [
    "get_counts_each_emotion_2_normal_class(train_df)"
   ]
  },
  {
   "cell_type": "code",
   "execution_count": 12,
   "metadata": {},
   "outputs": [
    {
     "data": {
      "text/plain": [
       "{'fear': 2, 'sadness': 5, 'anger': 2, 'joy': 8, 'count': 17}"
      ]
     },
     "execution_count": 12,
     "metadata": {},
     "output_type": "execute_result"
    }
   ],
   "source": [
    "get_counts_each_emotion_2_normal_class(dev_df)"
   ]
  },
  {
   "cell_type": "code",
   "execution_count": 13,
   "metadata": {},
   "outputs": [
    {
     "data": {
      "text/plain": [
       "{'fear': 59, 'sadness': 32, 'anger': 21, 'joy': 55, 'count': 167}"
      ]
     },
     "execution_count": 13,
     "metadata": {},
     "output_type": "execute_result"
    }
   ],
   "source": [
    "get_counts_each_emotion_2_normal_class(test_df)"
   ]
  },
  {
   "cell_type": "code",
   "execution_count": 14,
   "metadata": {},
   "outputs": [],
   "source": [
    "def print_normal_class(data_df,emotion_class):\n",
    "    return data_df[(data_df.emotion == emotion_class) & (data_df.intensity<threshold)]\n",
    "    "
   ]
  },
  {
   "cell_type": "code",
   "execution_count": 15,
   "metadata": {},
   "outputs": [
    {
     "data": {
      "text/html": [
       "<div>\n",
       "<style scoped>\n",
       "    .dataframe tbody tr th:only-of-type {\n",
       "        vertical-align: middle;\n",
       "    }\n",
       "\n",
       "    .dataframe tbody tr th {\n",
       "        vertical-align: top;\n",
       "    }\n",
       "\n",
       "    .dataframe thead th {\n",
       "        text-align: right;\n",
       "    }\n",
       "</style>\n",
       "<table border=\"1\" class=\"dataframe\">\n",
       "  <thead>\n",
       "    <tr style=\"text-align: right;\">\n",
       "      <th></th>\n",
       "      <th>id</th>\n",
       "      <th>message</th>\n",
       "      <th>emotion</th>\n",
       "      <th>intensity</th>\n",
       "    </tr>\n",
       "  </thead>\n",
       "  <tbody>\n",
       "    <tr>\n",
       "      <th>1125</th>\n",
       "      <td>21125</td>\n",
       "      <td>Ha! @mquirk @joshuahoodbooks Got your book aft...</td>\n",
       "      <td>fear</td>\n",
       "      <td>0.125</td>\n",
       "    </tr>\n",
       "    <tr>\n",
       "      <th>1085</th>\n",
       "      <td>21085</td>\n",
       "      <td>It's not always how you #start it's how you #F...</td>\n",
       "      <td>fear</td>\n",
       "      <td>0.188</td>\n",
       "    </tr>\n",
       "    <tr>\n",
       "      <th>1131</th>\n",
       "      <td>21131</td>\n",
       "      <td>#rocklandcounty get to ravis in suffern, ny. G...</td>\n",
       "      <td>fear</td>\n",
       "      <td>0.125</td>\n",
       "    </tr>\n",
       "    <tr>\n",
       "      <th>1094</th>\n",
       "      <td>21094</td>\n",
       "      <td>@pixietangerine @hatersbackoff im so exited!! ...</td>\n",
       "      <td>fear</td>\n",
       "      <td>0.188</td>\n",
       "    </tr>\n",
       "    <tr>\n",
       "      <th>1112</th>\n",
       "      <td>21112</td>\n",
       "      <td>Study finds #awe &amp;amp; #wonder of something gr...</td>\n",
       "      <td>fear</td>\n",
       "      <td>0.146</td>\n",
       "    </tr>\n",
       "    <tr>\n",
       "      <th>1133</th>\n",
       "      <td>21133</td>\n",
       "      <td>Jeans with fake pockets</td>\n",
       "      <td>fear</td>\n",
       "      <td>0.125</td>\n",
       "    </tr>\n",
       "    <tr>\n",
       "      <th>1140</th>\n",
       "      <td>21140</td>\n",
       "      <td>Don't #worry if you're not the best , if you a...</td>\n",
       "      <td>fear</td>\n",
       "      <td>0.104</td>\n",
       "    </tr>\n",
       "    <tr>\n",
       "      <th>1103</th>\n",
       "      <td>21103</td>\n",
       "      <td>@turoturok  We're glad to hear that everything...</td>\n",
       "      <td>fear</td>\n",
       "      <td>0.167</td>\n",
       "    </tr>\n",
       "  </tbody>\n",
       "</table>\n",
       "</div>"
      ],
      "text/plain": [
       "         id                                            message emotion  \\\n",
       "1125  21125  Ha! @mquirk @joshuahoodbooks Got your book aft...    fear   \n",
       "1085  21085  It's not always how you #start it's how you #F...    fear   \n",
       "1131  21131  #rocklandcounty get to ravis in suffern, ny. G...    fear   \n",
       "1094  21094  @pixietangerine @hatersbackoff im so exited!! ...    fear   \n",
       "1112  21112  Study finds #awe &amp; #wonder of something gr...    fear   \n",
       "1133  21133                           Jeans with fake pockets     fear   \n",
       "1140  21140  Don't #worry if you're not the best , if you a...    fear   \n",
       "1103  21103  @turoturok  We're glad to hear that everything...    fear   \n",
       "\n",
       "      intensity  \n",
       "1125      0.125  \n",
       "1085      0.188  \n",
       "1131      0.125  \n",
       "1094      0.188  \n",
       "1112      0.146  \n",
       "1133      0.125  \n",
       "1140      0.104  \n",
       "1103      0.167  "
      ]
     },
     "execution_count": 15,
     "metadata": {},
     "output_type": "execute_result"
    }
   ],
   "source": [
    "print_normal_class(train_df,emotion_class='fear').sample(n=8)"
   ]
  },
  {
   "cell_type": "code",
   "execution_count": 16,
   "metadata": {},
   "outputs": [
    {
     "data": {
      "text/html": [
       "<div>\n",
       "<style scoped>\n",
       "    .dataframe tbody tr th:only-of-type {\n",
       "        vertical-align: middle;\n",
       "    }\n",
       "\n",
       "    .dataframe tbody tr th {\n",
       "        vertical-align: top;\n",
       "    }\n",
       "\n",
       "    .dataframe thead th {\n",
       "        text-align: right;\n",
       "    }\n",
       "</style>\n",
       "<table border=\"1\" class=\"dataframe\">\n",
       "  <thead>\n",
       "    <tr style=\"text-align: right;\">\n",
       "      <th></th>\n",
       "      <th>id</th>\n",
       "      <th>message</th>\n",
       "      <th>emotion</th>\n",
       "      <th>intensity</th>\n",
       "    </tr>\n",
       "  </thead>\n",
       "  <tbody>\n",
       "    <tr>\n",
       "      <th>757</th>\n",
       "      <td>40757</td>\n",
       "      <td>@m_giacchino will this be aired on radio or fi...</td>\n",
       "      <td>sadness</td>\n",
       "      <td>0.188</td>\n",
       "    </tr>\n",
       "    <tr>\n",
       "      <th>763</th>\n",
       "      <td>40763</td>\n",
       "      <td>@urbaneprofessor roast them. Then risotto with...</td>\n",
       "      <td>sadness</td>\n",
       "      <td>0.167</td>\n",
       "    </tr>\n",
       "    <tr>\n",
       "      <th>772</th>\n",
       "      <td>40772</td>\n",
       "      <td>@RiRiMathew even when we're fighting I'm laugh...</td>\n",
       "      <td>sadness</td>\n",
       "      <td>0.146</td>\n",
       "    </tr>\n",
       "    <tr>\n",
       "      <th>759</th>\n",
       "      <td>40759</td>\n",
       "      <td>TONIGHT - Fulford Arms, York \\nTOMORROW - Bank...</td>\n",
       "      <td>sadness</td>\n",
       "      <td>0.188</td>\n",
       "    </tr>\n",
       "    <tr>\n",
       "      <th>780</th>\n",
       "      <td>40780</td>\n",
       "      <td>#FF @ElizaNealsRocks Love &amp;amp; support, alway...</td>\n",
       "      <td>sadness</td>\n",
       "      <td>0.125</td>\n",
       "    </tr>\n",
       "    <tr>\n",
       "      <th>755</th>\n",
       "      <td>40755</td>\n",
       "      <td>@hannah_2401 hannah stop being mournful and ch...</td>\n",
       "      <td>sadness</td>\n",
       "      <td>0.188</td>\n",
       "    </tr>\n",
       "    <tr>\n",
       "      <th>774</th>\n",
       "      <td>40774</td>\n",
       "      <td>Never a dull moment when talking to Nell 😂😂😂😂😋</td>\n",
       "      <td>sadness</td>\n",
       "      <td>0.146</td>\n",
       "    </tr>\n",
       "    <tr>\n",
       "      <th>771</th>\n",
       "      <td>40771</td>\n",
       "      <td>Please bear with me, I'm not Twitter savvy😝 in...</td>\n",
       "      <td>sadness</td>\n",
       "      <td>0.146</td>\n",
       "    </tr>\n",
       "  </tbody>\n",
       "</table>\n",
       "</div>"
      ],
      "text/plain": [
       "        id                                            message  emotion  \\\n",
       "757  40757  @m_giacchino will this be aired on radio or fi...  sadness   \n",
       "763  40763  @urbaneprofessor roast them. Then risotto with...  sadness   \n",
       "772  40772  @RiRiMathew even when we're fighting I'm laugh...  sadness   \n",
       "759  40759  TONIGHT - Fulford Arms, York \\nTOMORROW - Bank...  sadness   \n",
       "780  40780  #FF @ElizaNealsRocks Love &amp; support, alway...  sadness   \n",
       "755  40755  @hannah_2401 hannah stop being mournful and ch...  sadness   \n",
       "774  40774     Never a dull moment when talking to Nell 😂😂😂😂😋  sadness   \n",
       "771  40771  Please bear with me, I'm not Twitter savvy😝 in...  sadness   \n",
       "\n",
       "     intensity  \n",
       "757      0.188  \n",
       "763      0.167  \n",
       "772      0.146  \n",
       "759      0.188  \n",
       "780      0.125  \n",
       "755      0.188  \n",
       "774      0.146  \n",
       "771      0.146  "
      ]
     },
     "execution_count": 16,
     "metadata": {},
     "output_type": "execute_result"
    }
   ],
   "source": [
    "print_normal_class(train_df,emotion_class='sadness').sample(n=8)"
   ]
  },
  {
   "cell_type": "code",
   "execution_count": 17,
   "metadata": {},
   "outputs": [
    {
     "data": {
      "text/html": [
       "<div>\n",
       "<style scoped>\n",
       "    .dataframe tbody tr th:only-of-type {\n",
       "        vertical-align: middle;\n",
       "    }\n",
       "\n",
       "    .dataframe tbody tr th {\n",
       "        vertical-align: top;\n",
       "    }\n",
       "\n",
       "    .dataframe thead th {\n",
       "        text-align: right;\n",
       "    }\n",
       "</style>\n",
       "<table border=\"1\" class=\"dataframe\">\n",
       "  <thead>\n",
       "    <tr style=\"text-align: right;\">\n",
       "      <th></th>\n",
       "      <th>id</th>\n",
       "      <th>message</th>\n",
       "      <th>emotion</th>\n",
       "      <th>intensity</th>\n",
       "    </tr>\n",
       "  </thead>\n",
       "  <tbody>\n",
       "    <tr>\n",
       "      <th>852</th>\n",
       "      <td>10852</td>\n",
       "      <td>rose incense are the best thing I've ever bought</td>\n",
       "      <td>anger</td>\n",
       "      <td>0.125</td>\n",
       "    </tr>\n",
       "    <tr>\n",
       "      <th>768</th>\n",
       "      <td>10768</td>\n",
       "      <td>Leveled at the half. Much better offense expec...</td>\n",
       "      <td>anger</td>\n",
       "      <td>0.182</td>\n",
       "    </tr>\n",
       "    <tr>\n",
       "      <th>746</th>\n",
       "      <td>10746</td>\n",
       "      <td>@MHChat sadness with resentment is the past, s...</td>\n",
       "      <td>anger</td>\n",
       "      <td>0.172</td>\n",
       "    </tr>\n",
       "    <tr>\n",
       "      <th>825</th>\n",
       "      <td>10825</td>\n",
       "      <td>@ezlisteningdisc it doesn't offend me but it's...</td>\n",
       "      <td>anger</td>\n",
       "      <td>0.188</td>\n",
       "    </tr>\n",
       "    <tr>\n",
       "      <th>849</th>\n",
       "      <td>10849</td>\n",
       "      <td>Follow up. Follow through. Be #relentless. #su...</td>\n",
       "      <td>anger</td>\n",
       "      <td>0.125</td>\n",
       "    </tr>\n",
       "    <tr>\n",
       "      <th>832</th>\n",
       "      <td>10832</td>\n",
       "      <td>@JaredLeto Jared + #snap? 💘</td>\n",
       "      <td>anger</td>\n",
       "      <td>0.188</td>\n",
       "    </tr>\n",
       "    <tr>\n",
       "      <th>826</th>\n",
       "      <td>10826</td>\n",
       "      <td>Drop Snapchat names #bored  #swap #pics</td>\n",
       "      <td>anger</td>\n",
       "      <td>0.188</td>\n",
       "    </tr>\n",
       "    <tr>\n",
       "      <th>838</th>\n",
       "      <td>10838</td>\n",
       "      <td>Vale! Vale! Sip sangria and taste tantalizing ...</td>\n",
       "      <td>anger</td>\n",
       "      <td>0.167</td>\n",
       "    </tr>\n",
       "  </tbody>\n",
       "</table>\n",
       "</div>"
      ],
      "text/plain": [
       "        id                                            message emotion  \\\n",
       "852  10852   rose incense are the best thing I've ever bought   anger   \n",
       "768  10768  Leveled at the half. Much better offense expec...   anger   \n",
       "746  10746  @MHChat sadness with resentment is the past, s...   anger   \n",
       "825  10825  @ezlisteningdisc it doesn't offend me but it's...   anger   \n",
       "849  10849  Follow up. Follow through. Be #relentless. #su...   anger   \n",
       "832  10832                        @JaredLeto Jared + #snap? 💘   anger   \n",
       "826  10826            Drop Snapchat names #bored  #swap #pics   anger   \n",
       "838  10838  Vale! Vale! Sip sangria and taste tantalizing ...   anger   \n",
       "\n",
       "     intensity  \n",
       "852      0.125  \n",
       "768      0.182  \n",
       "746      0.172  \n",
       "825      0.188  \n",
       "849      0.125  \n",
       "832      0.188  \n",
       "826      0.188  \n",
       "838      0.167  "
      ]
     },
     "execution_count": 17,
     "metadata": {},
     "output_type": "execute_result"
    }
   ],
   "source": [
    "print_normal_class(train_df,emotion_class='anger').sample(n=8)"
   ]
  },
  {
   "cell_type": "code",
   "execution_count": 18,
   "metadata": {},
   "outputs": [
    {
     "data": {
      "text/html": [
       "<div>\n",
       "<style scoped>\n",
       "    .dataframe tbody tr th:only-of-type {\n",
       "        vertical-align: middle;\n",
       "    }\n",
       "\n",
       "    .dataframe tbody tr th {\n",
       "        vertical-align: top;\n",
       "    }\n",
       "\n",
       "    .dataframe thead th {\n",
       "        text-align: right;\n",
       "    }\n",
       "</style>\n",
       "<table border=\"1\" class=\"dataframe\">\n",
       "  <thead>\n",
       "    <tr style=\"text-align: right;\">\n",
       "      <th></th>\n",
       "      <th>id</th>\n",
       "      <th>message</th>\n",
       "      <th>emotion</th>\n",
       "      <th>intensity</th>\n",
       "    </tr>\n",
       "  </thead>\n",
       "  <tbody>\n",
       "    <tr>\n",
       "      <th>802</th>\n",
       "      <td>30802</td>\n",
       "      <td>Wanted to get him a cake with sparkling candle...</td>\n",
       "      <td>joy</td>\n",
       "      <td>0.104</td>\n",
       "    </tr>\n",
       "    <tr>\n",
       "      <th>806</th>\n",
       "      <td>30806</td>\n",
       "      <td>With a jovial Trump on his ass, Don King just ...</td>\n",
       "      <td>joy</td>\n",
       "      <td>0.104</td>\n",
       "    </tr>\n",
       "    <tr>\n",
       "      <th>811</th>\n",
       "      <td>30811</td>\n",
       "      <td>It is too fucking bright &amp;amp; too fucking hot...</td>\n",
       "      <td>joy</td>\n",
       "      <td>0.096</td>\n",
       "    </tr>\n",
       "    <tr>\n",
       "      <th>804</th>\n",
       "      <td>30804</td>\n",
       "      <td>Sometimes I watch shitty tv to reinforce never...</td>\n",
       "      <td>joy</td>\n",
       "      <td>0.104</td>\n",
       "    </tr>\n",
       "    <tr>\n",
       "      <th>785</th>\n",
       "      <td>30785</td>\n",
       "      <td>sparkling or still? #terribledebatequestions</td>\n",
       "      <td>joy</td>\n",
       "      <td>0.146</td>\n",
       "    </tr>\n",
       "    <tr>\n",
       "      <th>820</th>\n",
       "      <td>30820</td>\n",
       "      <td>hate overthinking e v e r y t h i n g like i j...</td>\n",
       "      <td>joy</td>\n",
       "      <td>0.040</td>\n",
       "    </tr>\n",
       "    <tr>\n",
       "      <th>781</th>\n",
       "      <td>30781</td>\n",
       "      <td>Inquiries into alleged abuses by UK troops in ...</td>\n",
       "      <td>joy</td>\n",
       "      <td>0.160</td>\n",
       "    </tr>\n",
       "    <tr>\n",
       "      <th>776</th>\n",
       "      <td>30776</td>\n",
       "      <td>Logically speaking, this can't be the worst I'...</td>\n",
       "      <td>joy</td>\n",
       "      <td>0.167</td>\n",
       "    </tr>\n",
       "  </tbody>\n",
       "</table>\n",
       "</div>"
      ],
      "text/plain": [
       "        id                                            message emotion  \\\n",
       "802  30802  Wanted to get him a cake with sparkling candle...     joy   \n",
       "806  30806  With a jovial Trump on his ass, Don King just ...     joy   \n",
       "811  30811  It is too fucking bright &amp; too fucking hot...     joy   \n",
       "804  30804  Sometimes I watch shitty tv to reinforce never...     joy   \n",
       "785  30785       sparkling or still? #terribledebatequestions     joy   \n",
       "820  30820  hate overthinking e v e r y t h i n g like i j...     joy   \n",
       "781  30781  Inquiries into alleged abuses by UK troops in ...     joy   \n",
       "776  30776  Logically speaking, this can't be the worst I'...     joy   \n",
       "\n",
       "     intensity  \n",
       "802      0.104  \n",
       "806      0.104  \n",
       "811      0.096  \n",
       "804      0.104  \n",
       "785      0.146  \n",
       "820      0.040  \n",
       "781      0.160  \n",
       "776      0.167  "
      ]
     },
     "execution_count": 18,
     "metadata": {},
     "output_type": "execute_result"
    }
   ],
   "source": [
    "print_normal_class(train_df,emotion_class='joy').sample(n=8)"
   ]
  },
  {
   "cell_type": "code",
   "execution_count": 20,
   "metadata": {},
   "outputs": [
    {
     "name": "stderr",
     "output_type": "stream",
     "text": [
      "<ipython-input-20-9c1a2e8f4097>:6: SettingWithCopyWarning: \n",
      "A value is trying to be set on a copy of a slice from a DataFrame\n",
      "\n",
      "See the caveats in the documentation: https://pandas.pydata.org/pandas-docs/stable/user_guide/indexing.html#returning-a-view-versus-a-copy\n",
      "  train_df['emotion'][train_df['intensity']<threshold] = 'normal'\n",
      "<ipython-input-20-9c1a2e8f4097>:7: SettingWithCopyWarning: \n",
      "A value is trying to be set on a copy of a slice from a DataFrame\n",
      "\n",
      "See the caveats in the documentation: https://pandas.pydata.org/pandas-docs/stable/user_guide/indexing.html#returning-a-view-versus-a-copy\n",
      "  dev_df['emotion'][dev_df['intensity']<threshold] = 'normal'\n",
      "<ipython-input-20-9c1a2e8f4097>:8: SettingWithCopyWarning: \n",
      "A value is trying to be set on a copy of a slice from a DataFrame\n",
      "\n",
      "See the caveats in the documentation: https://pandas.pydata.org/pandas-docs/stable/user_guide/indexing.html#returning-a-view-versus-a-copy\n",
      "  test_df['emotion'][test_df['intensity']<threshold] = 'normal'\n"
     ]
    }
   ],
   "source": [
    "#this sets the threshold to 0.2 so that the intesity of the text is identified\n",
    "threshold = 0.2\n",
    "\n",
    "# this function adds normal emotion to the datsets, \n",
    "# if the intensity of the text is below 0.2 then the emotion of the text is normal\n",
    "train_df['emotion'][train_df['intensity']<threshold] = 'normal'\n",
    "dev_df['emotion'][dev_df['intensity']<threshold] = 'normal'\n",
    "test_df['emotion'][test_df['intensity']<threshold] = 'normal'"
   ]
  },
  {
   "cell_type": "code",
   "execution_count": 21,
   "metadata": {},
   "outputs": [
    {
     "data": {
      "text/html": [
       "<div>\n",
       "<style scoped>\n",
       "    .dataframe tbody tr th:only-of-type {\n",
       "        vertical-align: middle;\n",
       "    }\n",
       "\n",
       "    .dataframe tbody tr th {\n",
       "        vertical-align: top;\n",
       "    }\n",
       "\n",
       "    .dataframe thead th {\n",
       "        text-align: right;\n",
       "    }\n",
       "</style>\n",
       "<table border=\"1\" class=\"dataframe\">\n",
       "  <thead>\n",
       "    <tr style=\"text-align: right;\">\n",
       "      <th></th>\n",
       "      <th>id</th>\n",
       "      <th>message</th>\n",
       "      <th>emotion</th>\n",
       "      <th>intensity</th>\n",
       "    </tr>\n",
       "  </thead>\n",
       "  <tbody>\n",
       "    <tr>\n",
       "      <th>772</th>\n",
       "      <td>20772</td>\n",
       "      <td>@residentadvisor thanks for getting back to me...</td>\n",
       "      <td>fear</td>\n",
       "      <td>0.396</td>\n",
       "    </tr>\n",
       "    <tr>\n",
       "      <th>841</th>\n",
       "      <td>10841</td>\n",
       "      <td>@thomeagle Just to help maintain and boost our...</td>\n",
       "      <td>normal</td>\n",
       "      <td>0.167</td>\n",
       "    </tr>\n",
       "    <tr>\n",
       "      <th>887</th>\n",
       "      <td>20887</td>\n",
       "      <td>Hahahah what a horrific penalty from bayer. 5 ...</td>\n",
       "      <td>fear</td>\n",
       "      <td>0.333</td>\n",
       "    </tr>\n",
       "    <tr>\n",
       "      <th>495</th>\n",
       "      <td>10495</td>\n",
       "      <td>#welfarereform should not be a 'model' for #snap.</td>\n",
       "      <td>anger</td>\n",
       "      <td>0.458</td>\n",
       "    </tr>\n",
       "    <tr>\n",
       "      <th>270</th>\n",
       "      <td>30270</td>\n",
       "      <td>#smile is the #respect we give everyone.</td>\n",
       "      <td>joy</td>\n",
       "      <td>0.583</td>\n",
       "    </tr>\n",
       "    <tr>\n",
       "      <th>...</th>\n",
       "      <td>...</td>\n",
       "      <td>...</td>\n",
       "      <td>...</td>\n",
       "      <td>...</td>\n",
       "    </tr>\n",
       "    <tr>\n",
       "      <th>829</th>\n",
       "      <td>10829</td>\n",
       "      <td>follow my girl tiff she only got 3 followers💖💘...</td>\n",
       "      <td>normal</td>\n",
       "      <td>0.188</td>\n",
       "    </tr>\n",
       "    <tr>\n",
       "      <th>4</th>\n",
       "      <td>40004</td>\n",
       "      <td>Im think ima lay in bed all day and sulk. Life...</td>\n",
       "      <td>sadness</td>\n",
       "      <td>0.934</td>\n",
       "    </tr>\n",
       "    <tr>\n",
       "      <th>33</th>\n",
       "      <td>30033</td>\n",
       "      <td>This is the day You've made, \\n\\nLet us rehoi ...</td>\n",
       "      <td>joy</td>\n",
       "      <td>0.854</td>\n",
       "    </tr>\n",
       "    <tr>\n",
       "      <th>372</th>\n",
       "      <td>30372</td>\n",
       "      <td>@kevinmenzel annual reminder that i don't care...</td>\n",
       "      <td>joy</td>\n",
       "      <td>0.519</td>\n",
       "    </tr>\n",
       "    <tr>\n",
       "      <th>379</th>\n",
       "      <td>20379</td>\n",
       "      <td>@peacexxanna your nightmare</td>\n",
       "      <td>fear</td>\n",
       "      <td>0.583</td>\n",
       "    </tr>\n",
       "  </tbody>\n",
       "</table>\n",
       "<p>100 rows × 4 columns</p>\n",
       "</div>"
      ],
      "text/plain": [
       "        id                                            message  emotion  \\\n",
       "772  20772  @residentadvisor thanks for getting back to me...     fear   \n",
       "841  10841  @thomeagle Just to help maintain and boost our...   normal   \n",
       "887  20887  Hahahah what a horrific penalty from bayer. 5 ...     fear   \n",
       "495  10495  #welfarereform should not be a 'model' for #snap.    anger   \n",
       "270  30270           #smile is the #respect we give everyone.      joy   \n",
       "..     ...                                                ...      ...   \n",
       "829  10829  follow my girl tiff she only got 3 followers💖💘...   normal   \n",
       "4    40004  Im think ima lay in bed all day and sulk. Life...  sadness   \n",
       "33   30033  This is the day You've made, \\n\\nLet us rehoi ...      joy   \n",
       "372  30372  @kevinmenzel annual reminder that i don't care...      joy   \n",
       "379  20379                        @peacexxanna your nightmare     fear   \n",
       "\n",
       "     intensity  \n",
       "772      0.396  \n",
       "841      0.167  \n",
       "887      0.333  \n",
       "495      0.458  \n",
       "270      0.583  \n",
       "..         ...  \n",
       "829      0.188  \n",
       "4        0.934  \n",
       "33       0.854  \n",
       "372      0.519  \n",
       "379      0.583  \n",
       "\n",
       "[100 rows x 4 columns]"
      ]
     },
     "execution_count": 21,
     "metadata": {},
     "output_type": "execute_result"
    }
   ],
   "source": [
    "#this function displays a sample of the text \n",
    "train_df.sample(n=100)"
   ]
  },
  {
   "cell_type": "code",
   "execution_count": 22,
   "metadata": {},
   "outputs": [
    {
     "data": {
      "image/png": "[encoded data removed]",
      "text/plain": [
       "<Figure size 432x288 with 1 Axes>"
      ]
     },
     "metadata": {
      "needs_background": "light"
     },
     "output_type": "display_data"
    }
   ],
   "source": [
    "# Set the x axis label of the current axis.\n",
    "plt.xlabel('Intensity')\n",
    "# Set the y axis label of the current axis.\n",
    "plt.ylabel('Score')\n",
    "# Set a title \n",
    "plt.title('Fear Emotion')\n",
    "\n",
    "fear_em = train_df[train_df[\"emotion\"]==\"fear\"]\n",
    "fear_em_d = dev_df[dev_df[\"emotion\"]==\"fear\"]\n",
    "fear_em_t = test_df[test_df[\"emotion\"]==\"fear\"]\n",
    "fear_em['intensity'].hist()\n",
    "fear_em_t['intensity'].hist()\n",
    "fear_em_d['intensity'].hist()\n",
    "\n",
    "colors = {'Train':'Blue', 'Development':'Green', 'Test':'Orange'}         \n",
    "labels = list(colors.keys())\n",
    "handles = [plt.Rectangle((0,0),1,1, color=colors[label]) for label in labels]\n",
    "plt.legend(handles, labels)\n",
    "plt.grid(False)\n",
    "plt.show()"
   ]
  },
  {
   "cell_type": "code",
   "execution_count": 23,
   "metadata": {},
   "outputs": [
    {
     "data": {
      "image/png": "[encoded data removed]",
      "text/plain": [
       "<Figure size 432x288 with 1 Axes>"
      ]
     },
     "metadata": {
      "needs_background": "light"
     },
     "output_type": "display_data"
    }
   ],
   "source": [
    "# Set the x axis label of the current axis.\n",
    "plt.xlabel('Intensity')\n",
    "# Set the y axis label of the current axis.\n",
    "plt.ylabel('Score')\n",
    "# Set a title \n",
    "plt.title('Joy Emotion')\n",
    "\n",
    "joy_em = train_df[train_df[\"emotion\"]==\"joy\"]\n",
    "joy_em_d = dev_df[dev_df[\"emotion\"]==\"joy\"]\n",
    "joy_em_t = test_df[test_df[\"emotion\"]==\"joy\"]\n",
    "joy_em['intensity'].hist()\n",
    "joy_em_t['intensity'].hist()\n",
    "joy_em_d['intensity'].hist()\n",
    "\n",
    "colors = {'Train':'Blue', 'Development':'Green', 'Test':'Orange'}         \n",
    "labels = list(colors.keys())\n",
    "handles = [plt.Rectangle((0,0),1,1, color=colors[label]) for label in labels]\n",
    "plt.legend(handles, labels)\n",
    "plt.grid(False)\n",
    "plt.show()"
   ]
  },
  {
   "cell_type": "code",
   "execution_count": 24,
   "metadata": {},
   "outputs": [
    {
     "data": {
      "image/png": "[encoded data removed]",
      "text/plain": [
       "<Figure size 432x288 with 1 Axes>"
      ]
     },
     "metadata": {
      "needs_background": "light"
     },
     "output_type": "display_data"
    }
   ],
   "source": [
    "# Set the x axis label of the current axis.\n",
    "plt.xlabel('Intensity')\n",
    "# Set the y axis label of the current axis.\n",
    "plt.ylabel('Score')\n",
    "# Set a title \n",
    "plt.title('Sadness Emotion')\n",
    "\n",
    "sadness_em = train_df[train_df[\"emotion\"]==\"sadness\"]\n",
    "sadness_em_d = dev_df[dev_df[\"emotion\"]==\"sadness\"]\n",
    "sadness_em_t = test_df[test_df[\"emotion\"]==\"sadness\"]\n",
    "sadness_em['intensity'].hist()\n",
    "sadness_em_t['intensity'].hist()\n",
    "sadness_em_d['intensity'].hist()\n",
    "\n",
    "colors = {'Train':'Blue', 'Development':'Green', 'Test':'Orange'}         \n",
    "labels = list(colors.keys())\n",
    "handles = [plt.Rectangle((0,0),1,1, color=colors[label]) for label in labels]\n",
    "plt.legend(handles, labels)\n",
    "plt.grid(False)\n",
    "plt.show()"
   ]
  },
  {
   "cell_type": "code",
   "execution_count": 25,
   "metadata": {},
   "outputs": [
    {
     "data": {
      "image/png": "[encoded data removed]",
      "text/plain": [
       "<Figure size 432x288 with 1 Axes>"
      ]
     },
     "metadata": {
      "needs_background": "light"
     },
     "output_type": "display_data"
    }
   ],
   "source": [
    "# Set the x axis label of the current axis.\n",
    "plt.xlabel('Intensity')\n",
    "# Set the y axis label of the current axis.\n",
    "plt.ylabel('Score')\n",
    "# Set a title \n",
    "plt.title('Anger Emotion')\n",
    "\n",
    "anger_em = train_df[train_df[\"emotion\"]==\"anger\"]\n",
    "anger_em_d = dev_df[dev_df[\"emotion\"]==\"anger\"]\n",
    "anger_em_t = test_df[test_df[\"emotion\"]==\"anger\"]\n",
    "anger_em['intensity'].hist()\n",
    "anger_em_t['intensity'].hist()\n",
    "anger_em_d['intensity'].hist()\n",
    "\n",
    "colors = {'Train':'Blue', 'Development':'Green', 'Test':'Orange'}         \n",
    "labels = list(colors.keys())\n",
    "handles = [plt.Rectangle((0,0),1,1, color=colors[label]) for label in labels]\n",
    "plt.legend(handles, labels)\n",
    "plt.grid(False)\n",
    "plt.show()"
   ]
  },
  {
   "cell_type": "code",
   "execution_count": 26,
   "metadata": {},
   "outputs": [
    {
     "data": {
      "image/png": "[encoded data removed]",
      "text/plain": [
       "<Figure size 432x288 with 1 Axes>"
      ]
     },
     "metadata": {
      "needs_background": "light"
     },
     "output_type": "display_data"
    }
   ],
   "source": [
    "# Set the x axis label of the current axis.\n",
    "plt.xlabel('Intensity')\n",
    "# Set the y axis label of the current axis.\n",
    "plt.ylabel('Score')\n",
    "# Set a title \n",
    "plt.title('Normal Emotion')\n",
    "\n",
    "normal_em = train_df[train_df[\"emotion\"]==\"normal\"]\n",
    "normal_em_d = dev_df[dev_df[\"emotion\"]==\"normal\"]\n",
    "normal_em_t = test_df[test_df[\"emotion\"]==\"normal\"]\n",
    "normal_em['intensity'].hist()\n",
    "normal_em_t['intensity'].hist()\n",
    "normal_em_d['intensity'].hist()\n",
    "\n",
    "colors = {'Train':'Blue', 'Development':'Green', 'Test':'Orange'}         \n",
    "labels = list(colors.keys())\n",
    "handles = [plt.Rectangle((0,0),1,1, color=colors[label]) for label in labels]\n",
    "plt.legend(handles, labels)\n",
    "plt.grid(False)\n",
    "plt.show()"
   ]
  },
  {
   "cell_type": "code",
   "execution_count": 27,
   "metadata": {},
   "outputs": [],
   "source": [
    "#this function provides the abels of the graph\n",
    "train_y_values = train_df['emotion'].values\n",
    "dev_y_values = dev_df['emotion'].values\n",
    "test_y_values = test_df['emotion'].values"
   ]
  },
  {
   "cell_type": "code",
   "execution_count": 28,
   "metadata": {},
   "outputs": [
    {
     "data": {
      "image/png": "[encoded data removed]",
      "text/plain": [
       "<Figure size 432x288 with 1 Axes>"
      ]
     },
     "metadata": {
      "needs_background": "light"
     },
     "output_type": "display_data"
    }
   ],
   "source": [
    "#this function gets the unique labels from the text\n",
    "unique, counts = np.unique(train_y_values, return_counts=True)\n",
    "percentage = counts*100/sum(counts)\n",
    "plt.barh(unique, counts, 1)\n",
    "plt.title('Train Class Frequency')\n",
    "plt.xlabel('Class')\n",
    "plt.ylabel('Frequency')\n",
    "\n",
    "for index, value in enumerate(counts):\n",
    "    plt.text(value, index, str(value)+' ('+str(round(percentage[index],2))+')')\n",
    "    \n",
    "plt.show()"
   ]
  },
  {
   "cell_type": "code",
   "execution_count": 29,
   "metadata": {},
   "outputs": [
    {
     "data": {
      "image/png": "[encoded data removed]",
      "text/plain": [
       "<Figure size 432x288 with 1 Axes>"
      ]
     },
     "metadata": {
      "needs_background": "light"
     },
     "output_type": "display_data"
    }
   ],
   "source": [
    "#this function outputs the distributed classes in dataset\n",
    "unique, counts = np.unique(dev_y_values, return_counts=True)\n",
    "percentage = counts*100/sum(counts)\n",
    "plt.barh(unique, counts, 1)\n",
    "plt.title('Development Class Frequency')\n",
    "plt.xlabel('Class')\n",
    "plt.ylabel('Frequency')\n",
    "\n",
    "for index, value in enumerate(counts):\n",
    "    plt.text(value, index, str(value)+' ('+str(round(percentage[index],2))+')')\n",
    "    \n",
    "plt.show()"
   ]
  },
  {
   "cell_type": "code",
   "execution_count": 30,
   "metadata": {},
   "outputs": [
    {
     "data": {
      "image/png": "[encoded data removed]",
      "text/plain": [
       "<Figure size 432x288 with 1 Axes>"
      ]
     },
     "metadata": {
      "needs_background": "light"
     },
     "output_type": "display_data"
    }
   ],
   "source": [
    "unique, counts = np.unique(test_y_values, return_counts=True)\n",
    "percentage = counts*100/sum(counts)\n",
    "plt.barh(unique, counts, 1)\n",
    "plt.title('Test Class Frequency')\n",
    "plt.xlabel('Class')\n",
    "plt.ylabel('Frequency')\n",
    "for index, value in enumerate(counts):\n",
    "    plt.text(value, index, str(value)+' ('+str(round(percentage[index],2))+')')\n",
    "    \n",
    "plt.show()"
   ]
  },
  {
   "cell_type": "code",
   "execution_count": 31,
   "metadata": {},
   "outputs": [
    {
     "data": {
      "image/png": "[encoded data removed]",
      "text/plain": [
       "<Figure size 432x288 with 1 Axes>"
      ]
     },
     "metadata": {
      "needs_background": "light"
     },
     "output_type": "display_data"
    }
   ],
   "source": [
    "#this function compares the emotion from all the classes of the dataset\n",
    "unique, counts = np.unique(train_y_values, return_counts=True)\n",
    "plt.bar(unique, counts)\n",
    "\n",
    "unique, counts = np.unique(test_y_values, return_counts=True)\n",
    "plt.bar(unique, counts)\n",
    "\n",
    "unique, counts = np.unique(dev_y_values, return_counts=True)\n",
    "plt.bar(unique, counts)\n",
    "\n",
    "plt.title('All-sets Class Frequency')\n",
    "plt.xlabel('Class')\n",
    "plt.ylabel('Frequency')\n",
    "\n",
    "\n",
    "\n",
    "colors = {'Train':'Blue', 'Development':'Green', 'Test':'Orange'}         \n",
    "labels = list(colors.keys())\n",
    "handles = [plt.Rectangle((0,0),1,1, color=colors[label]) for label in labels]\n",
    "plt.legend(handles, labels)\n",
    "plt.show()"
   ]
  },
  {
   "cell_type": "code",
   "execution_count": 32,
   "metadata": {},
   "outputs": [],
   "source": [
    "train_df.to_csv(dataset_path+'train.csv', index=False)\n",
    "test_df.to_csv(dataset_path+'test.csv', index=False)\n",
    "dev_df.to_csv(dataset_path+'devel.csv', index=False)"
   ]
  },
  {
   "cell_type": "code",
   "execution_count": null,
   "metadata": {},
   "outputs": [],
   "source": []
  }
 ],
 "metadata": {
  "kernelspec": {
   "display_name": "Python 3 (ipykernel)",
   "language": "python",
   "name": "python3"
  },
  "language_info": {
   "codemirror_mode": {
    "name": "ipython",
    "version": 3
   },
   "file_extension": ".py",
   "mimetype": "text/x-python",
   "name": "python",
   "nbconvert_exporter": "python",
   "pygments_lexer": "ipython3",
   "version": "3.9.7"
  }
 },
 "nbformat": 4,
 "nbformat_minor": 4
}
